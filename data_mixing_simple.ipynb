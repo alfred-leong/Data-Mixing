{
 "cells": [
  {
   "cell_type": "code",
   "execution_count": null,
   "metadata": {},
   "outputs": [],
   "source": [
    "import torchvision\n",
    "import torch\n",
    "import numpy as np\n",
    "import matplotlib.pyplot as plt\n",
    "torch.set_warn_always(False)\n",
    "%load_ext autoreload\n",
    "%autoreload 2"
   ]
  },
  {
   "cell_type": "markdown",
   "metadata": {},
   "source": [
    "# load data"
   ]
  },
  {
   "cell_type": "code",
   "execution_count": null,
   "metadata": {},
   "outputs": [],
   "source": [
    "from data_loader.loader import get_cat_dog, get_fashion_mnist, sample_from\n",
    "seed = 0\n",
    "print(\"getting fashion mnist data\")\n",
    "# training data sources; fashion_mnist has 10 class, we filter it with e.g., [5,0] to make 5th class as 1, 0th class as 0, turning it into a binary problem\n",
    "mnist_train_loader_1, sandals_val_loader = get_fashion_mnist([5,0], batch_size=16, seed = 0, portion_training=0.95) # sandals\n",
    "mnist_train_loader_2, sneakers_val_loader = get_fashion_mnist([7,1], batch_size=16, seed = 0, portion_training=0.95) # sneakers\n",
    "mnist_train_loader_4, bag_val_loader = get_fashion_mnist([8,4], batch_size=16, seed = 0, portion_training=0.95) # bag\n",
    "\n",
    "# evaluation\n",
    "mnist_train_loader_5, shirt_val_loader = get_fashion_mnist([6,4], batch_size=16, portion_training=0.95, seed = 0) # shirt\n",
    "mnist_train_loader_3, boots_val_loader = get_fashion_mnist([9,2], batch_size=16, seed = 0, portion_training=0.95) # boots\n",
    "\n",
    "print(\"getting cat dog data\")\n",
    "cat_dog_train_loader, cat_dog_val_loader = get_cat_dog(batch_size=16, seed = 0, portion_training=0.95) # not really useful cat and dog data (for classifying fashion mnist)\n",
    "\n",
    "sandals_loader = mnist_train_loader_1\n",
    "sneakers_loader = mnist_train_loader_2\n",
    "bag_loader = mnist_train_loader_4\n",
    "\n",
    "boots_loader=mnist_train_loader_3\n",
    "shirt_loader=mnist_train_loader_5\n"
   ]
  },
  {
   "cell_type": "markdown",
   "metadata": {},
   "source": [
    "# check data"
   ]
  },
  {
   "cell_type": "code",
   "execution_count": null,
   "metadata": {},
   "outputs": [],
   "source": [
    "# check if loaded properly\n",
    "for data in cat_dog_train_loader.dataset:\n",
    "    plt.imshow(data[0][0])\n",
    "    plt.show()\n",
    "    break"
   ]
  },
  {
   "cell_type": "markdown",
   "metadata": {},
   "source": [
    "# BO function"
   ]
  },
  {
   "cell_type": "code",
   "execution_count": null,
   "metadata": {},
   "outputs": [],
   "source": [
    "from BO import iterative_loop, get_BO_plots\n",
    "from botorch.optim import optimize_acqf\n",
    "from botorch.acquisition import UpperConfidenceBound\n",
    "\n",
    "def run_BO(all_loaders, validaton_dataloader, iterations, num_epochs=20, printout=False):\n",
    "    print(\"running BO...\")\n",
    "    X, observations, gp = iterative_loop(all_loaders, validaton_dataloader, num_epochs=num_epochs, iterations=iterations, printout=printout)\n",
    "    BO_to_plot = get_BO_plots(observations) # BO results\n",
    "    naive_combine = BO_to_plot[0] # naive mixing result is the first iteration result of BO\n",
    "\n",
    "    # plot model performance as BO progresses...\n",
    "    plt.plot(range(len(BO_to_plot)), BO_to_plot, c=\"blue\", alpha=0.3, label=\"BO on mixing ratio\")\n",
    "    plt.axhline(naive_combine, linestyle=\"--\", c=\"red\", label=\"sample from each data source equally\")\n",
    "    plt.xlabel(\"BO iterations\")\n",
    "    plt.ylabel(\"accuracy on evaluation task\")\n",
    "    plt.legend()\n",
    "    plt.show()\n",
    "\n",
    "    # plot posterior\n",
    "    # posterior_acc = []\n",
    "    # for x in np.linspace(0,1,100):\n",
    "    #     posterior_acc.append(gp.posterior(torch.Tensor([[x,1-x]])).mean.item())\n",
    "        \n",
    "    # plt.plot(np.linspace(0,1,100), posterior_acc)\n",
    "    # plt.xlabel(\"mixing ratio (percentage on cats and dogs)\")\n",
    "    # plt.ylabel(\"accuracy\")\n",
    "    # plt.title(\"evaluation ratio : 1.0 cats and dogs\")\n",
    "    # plt.show()\n",
    "\n",
    "    def get_optimal_mixture_from_GP_posterior():\n",
    "        UCB = UpperConfidenceBound(gp, beta=0.0)\n",
    "        bounds = torch.stack([torch.zeros(len(all_loaders)), torch.ones(len(all_loaders))]) # need to change the bounds for parameters\n",
    "        A = [1.0] * len(all_loaders)\n",
    "        x = list(range(len(all_loaders)))\n",
    "        candidate, acq_value = optimize_acqf(\n",
    "            UCB, bounds=bounds, q=1, num_restarts=20, raw_samples=30,\n",
    "            equality_constraints = [(torch.tensor(x), torch.tensor(A), 1)]\n",
    "        )\n",
    "        return candidate\n",
    "    \n",
    "\n",
    "    def get_best_observation_mixture():\n",
    "        \n",
    "        # Find the index in list B that has the highest value\n",
    "        highest_index = observations.index(max(observations))\n",
    "        \n",
    "        # Return the corresponding item in list A\n",
    "        return X[highest_index]\n",
    "\n",
    "    \n",
    "    print(\"best mixture found in BO iterations is: \", get_best_observation_mixture())\n",
    "    \n",
    "    return X, observations, gp"
   ]
  },
  {
   "cell_type": "markdown",
   "metadata": {},
   "source": [
    "# run BO"
   ]
  },
  {
   "cell_type": "code",
   "execution_count": null,
   "metadata": {},
   "outputs": [],
   "source": [
    "from image_training import train\n",
    "from helper import get_data_from_mixing_ratio\n",
    "\n",
    "evaluation_task_data_ratio = 0.3\n",
    "print(\"train data: shirt, boots \")\n",
    "print(\"test data ratio: shirt {}%, boots {}%\".format(evaluation_task_data_ratio, 1-evaluation_task_data_ratio))\n",
    "\n",
    "# data for training, we can change this composition if necessary with other loaders\n",
    "train_loaders = [shirt_loader, boots_loader]\n",
    "\n",
    "# data just for evaluation; in real life we do not know this mixture. We can change this composition ratio or use other loaders\n",
    "# for example, this uses shirt and boots in a ratio of 30% and 70% in the evaluation task.\n",
    "validaton_dataloader = sample_from([shirt_loader, boots_loader], mixing_ratio=[evaluation_task_data_ratio, 1-evaluation_task_data_ratio], base_number_of_batches=30)\n",
    "\n",
    "iterations=10\n",
    "# run BO on different mixtures of the training data. At each iteration, we train a model using the training data mixture and check the evaluation performance on validation dataset\n",
    "run_BO(train_loaders, validaton_dataloader, iterations, printout=True) # should print a ratio that is close to evaluation_task_data_ratio\n",
    "\n"
   ]
  }
 ],
 "metadata": {
  "kernelspec": {
   "display_name": "data-mix-new",
   "language": "python",
   "name": "python3"
  },
  "language_info": {
   "name": "python",
   "version": "3.11.9"
  }
 },
 "nbformat": 4,
 "nbformat_minor": 2
}
